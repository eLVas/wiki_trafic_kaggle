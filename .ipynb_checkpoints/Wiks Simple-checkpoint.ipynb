{
 "cells": [
  {
   "cell_type": "code",
   "execution_count": 47,
   "metadata": {
    "collapsed": true
   },
   "outputs": [],
   "source": [
    "import pandas as pd\n",
    "import numpy as np"
   ]
  },
  {
   "cell_type": "code",
   "execution_count": 48,
   "metadata": {
    "collapsed": true
   },
   "outputs": [],
   "source": [
    "import matplotlib.pyplot as plt\n",
    "%matplotlib inline "
   ]
  },
  {
   "cell_type": "code",
   "execution_count": 49,
   "metadata": {
    "collapsed": true
   },
   "outputs": [],
   "source": [
    "data = pd.read_csv('./data/train_1.csv', parse_dates=True)"
   ]
  },
  {
   "cell_type": "code",
   "execution_count": 59,
   "metadata": {
    "collapsed": true
   },
   "outputs": [],
   "source": [
    "# create time series dataframe\n",
    "ts = train.set_index('Page')\n",
    "\n",
    "# convert columns to date\n",
    "columns = {}\n",
    "for col in ts.columns:\n",
    "    try:\n",
    "        columns[col] = pd.to_datetime(col, infer_datetime_format=True)\n",
    "    except ValueError:\n",
    "        pass\n",
    "ts.rename(columns=columns, inplace=True)"
   ]
  },
  {
   "cell_type": "code",
   "execution_count": 50,
   "metadata": {},
   "outputs": [],
   "source": [
    "# get metadata from page name\n",
    "\n",
    "meta = pd.DataFrame(\n",
    "    {\n",
    "        'Agent': train.Page.apply(lambda x:  x.split('_')[-1]).values,\n",
    "        'Source': train.Page.apply(lambda x:  x.split('_')[-2]).values,\n",
    "        'Domain': train.Page.apply(lambda x:  x.split('_')[-3]).values,\n",
    "        'Topic': train.Page.apply(lambda x:  ' '.join(x.split('_')[:-3])).values\n",
    "    },\n",
    "    index = data.Page\n",
    ")"
   ]
  },
  {
   "cell_type": "code",
   "execution_count": null,
   "metadata": {},
   "outputs": [],
   "source": [
    "key = pd.read_csv('./data/key_1.csv')\n",
    "key = key.set_index('Id')"
   ]
  },
  {
   "cell_type": "code",
   "execution_count": null,
   "metadata": {
    "collapsed": true
   },
   "outputs": [],
   "source": []
  }
 ],
 "metadata": {
  "kernelspec": {
   "display_name": "Python 3",
   "language": "python",
   "name": "python3"
  },
  "language_info": {
   "codemirror_mode": {
    "name": "ipython",
    "version": 3
   },
   "file_extension": ".py",
   "mimetype": "text/x-python",
   "name": "python",
   "nbconvert_exporter": "python",
   "pygments_lexer": "ipython3",
   "version": "3.6.1"
  }
 },
 "nbformat": 4,
 "nbformat_minor": 2
}
