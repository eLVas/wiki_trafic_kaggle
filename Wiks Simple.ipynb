{
 "cells": [
  {
   "cell_type": "code",
   "execution_count": 25,
   "metadata": {
    "collapsed": true
   },
   "outputs": [],
   "source": [
    "import pandas as pd\n",
    "import numpy as np"
   ]
  },
  {
   "cell_type": "code",
   "execution_count": 26,
   "metadata": {
    "collapsed": true
   },
   "outputs": [],
   "source": [
    "import matplotlib.pyplot as plt\n",
    "%matplotlib inline \n",
    "\n",
    "import seaborn as sns"
   ]
  },
  {
   "cell_type": "code",
   "execution_count": 27,
   "metadata": {
    "collapsed": true
   },
   "outputs": [],
   "source": [
    "train = pd.read_csv('./data/train_1.csv', parse_dates=True)"
   ]
  },
  {
   "cell_type": "code",
   "execution_count": 28,
   "metadata": {
    "collapsed": true
   },
   "outputs": [],
   "source": [
    "# create time series dataframe\n",
    "ts = train.set_index('Page')\n",
    "\n",
    "# convert columns to date\n",
    "columns = {}\n",
    "for col in ts.columns:\n",
    "    try:\n",
    "        columns[col] = pd.to_datetime(col, infer_datetime_format=True)\n",
    "    except ValueError:\n",
    "        pass\n",
    "ts.rename(columns=columns, inplace=True)"
   ]
  },
  {
   "cell_type": "code",
   "execution_count": 29,
   "metadata": {},
   "outputs": [],
   "source": [
    "# get metadata from page name\n",
    "\n",
    "meta = pd.DataFrame(\n",
    "    {\n",
    "        'Agent': train.Page.apply(lambda x:  x.split('_')[-1]).values,\n",
    "        'Source': train.Page.apply(lambda x:  x.split('_')[-2]).values,\n",
    "        'Domain': train.Page.apply(lambda x:  x.split('_')[-3]).values,\n",
    "        'Topic': train.Page.apply(lambda x:  ' '.join(x.split('_')[:-3])).values\n",
    "    },\n",
    "    index = train.Page\n",
    ")"
   ]
  },
  {
   "cell_type": "code",
   "execution_count": 30,
   "metadata": {
    "collapsed": true
   },
   "outputs": [],
   "source": [
    "data = train.set_index('Page')"
   ]
  },
  {
   "cell_type": "code",
   "execution_count": 31,
   "metadata": {},
   "outputs": [],
   "source": [
    "data = data.join(meta)"
   ]
  },
  {
   "cell_type": "code",
   "execution_count": null,
   "metadata": {
    "collapsed": true
   },
   "outputs": [],
   "source": []
  },
  {
   "cell_type": "code",
   "execution_count": 32,
   "metadata": {
    "collapsed": true
   },
   "outputs": [],
   "source": [
    "key = pd.read_csv('./data/key_1.csv')\n",
    "key = key.set_index('Id')"
   ]
  },
  {
   "cell_type": "code",
   "execution_count": 33,
   "metadata": {},
   "outputs": [
    {
     "data": {
      "text/plain": [
       "Agent                     all-agents\n",
       "Domain              es.wikipedia.org\n",
       "Source                    mobile-web\n",
       "Topic     ¿Qué culpa tiene Fatmagül?\n",
       "Name: ¿Qué_culpa_tiene_Fatmagül?_es.wikipedia.org_mobile-web_all-agents, dtype: object"
      ]
     },
     "execution_count": 33,
     "metadata": {},
     "output_type": "execute_result"
    }
   ],
   "source": [
    "meta.loc['¿Qué_culpa_tiene_Fatmagül?_es.wikipedia.org_mobile-web_all-agents']"
   ]
  },
  {
   "cell_type": "code",
   "execution_count": null,
   "metadata": {},
   "outputs": [],
   "source": []
  },
  {
   "cell_type": "code",
   "execution_count": null,
   "metadata": {
    "collapsed": true
   },
   "outputs": [],
   "source": []
  }
 ],
 "metadata": {
  "kernelspec": {
   "display_name": "Python 3",
   "language": "python",
   "name": "python3"
  },
  "language_info": {
   "codemirror_mode": {
    "name": "ipython",
    "version": 3
   },
   "file_extension": ".py",
   "mimetype": "text/x-python",
   "name": "python",
   "nbconvert_exporter": "python",
   "pygments_lexer": "ipython3",
   "version": "3.6.1"
  }
 },
 "nbformat": 4,
 "nbformat_minor": 2
}
